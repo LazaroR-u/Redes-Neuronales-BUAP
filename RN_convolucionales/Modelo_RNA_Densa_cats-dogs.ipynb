{
 "cells": [
  {
   "cell_type": "code",
   "execution_count": 3,
   "id": "61d2b4c2",
   "metadata": {},
   "outputs": [],
   "source": [
    "import os\n",
    "from glob import glob\n",
    "import numpy as np\n",
    "import keras\n",
    "from keras.models import Sequential\n",
    "from keras.layers import Dense, Dropout\n",
    "from tensorflow.keras.optimizers import RMSprop\n",
    "#pip install sklearn\n",
    "#pip install scikit-image\n",
    "from sklearn.model_selection import train_test_split\n",
    "#from skimage import color, io\n",
    "#from scipy.misc import imresize  ## deprecated\n",
    "from PIL import Image\n",
    "\n",
    "\n",
    "traincat = 'data/minitrain/cat/'\n",
    "traindog = 'data/minitrain/dog/'\n"
   ]
  },
  {
   "cell_type": "code",
   "execution_count": null,
   "id": "07570581",
   "metadata": {},
   "outputs": [],
   "source": [
    "cat_files_path = os.path.join(traincat, '*')\n",
    "dog_files_path = os.path.join(traindog, '*')\n",
    "cat_files = sorted(glob(cat_files_path))\n",
    "dog_files = sorted(glob(dog_files_path))\n",
    "n_files = len(cat_files) + len(dog_files)\n",
    "print(n_files)"
   ]
  },
  {
   "cell_type": "code",
   "execution_count": null,
   "id": "be3cc332",
   "metadata": {},
   "outputs": [],
   "source": [
    "\n",
    "size_image = 64\n",
    "allX = np.zeros((n_files, size_image, size_image, 3), dtype='float64')\n",
    "ally = np.zeros(n_files)\n",
    "\n",
    "count = 0\n",
    "\n",
    "\n",
    "for f in cat_files:\n",
    "    try:\n",
    "        #img = io.imread(f)\n",
    "        #new_img = imresize(img, (size_image, size_image, 3))\n",
    "        img = Image.open(f)\n",
    "        new_img = img.resize(size=(size_image, size_image))\n",
    "        allX[count] = np.array(new_img)\n",
    "        ally[count] = 0\n",
    "        count += 1\n",
    "        print(\"Imagen cargada\")\n",
    "    except:\n",
    "        print(\"No cargo imagen\")\n",
    "        #continue\n",
    "        \n",
    "        \n",
    "for f in dog_files:\n",
    "    try:\n",
    "        img = Image.open(f)\n",
    "        new_img = img.resize(size=(size_image, size_image))\n",
    "        allX[count] = np.array(new_img)\n",
    "        ally[count] = 1\n",
    "        count += 1\n",
    "    except:\n",
    "        continue\n",
    "        \n",
    "        \n",
    "x, x_test, y, y_test = train_test_split(allX, ally, test_size=0.2, random_state=1)\n",
    "\n",
    "\n",
    "print(x.shape[0])\n",
    "print(x_test.shape)\n",
    "print(y.shape)\n",
    "print(y_test.shape)"
   ]
  },
  {
   "cell_type": "code",
   "execution_count": null,
   "id": "2969efe9",
   "metadata": {},
   "outputs": [],
   "source": [
    "\n",
    "x_train = x.reshape(x.shape[0], 64*64*3)\n",
    "x_test = x_test.reshape(x_test.shape[0], 64*64*3)\n",
    "x_train = x_train.astype('float32')\n",
    "x_test = x_test.astype('float32')\n",
    "x_train /= 255.\n",
    "x_test /= 255.\n",
    "\n",
    "x_train.shape\n",
    "x_train.shape\n",
    "\n",
    "#y_train = to_categorical(y, 2)\n",
    "#y_test = to_categorical(y_test, 2)\n",
    "\n",
    "\n",
    "y_train = y\n",
    "print(y_train)\n",
    "print(y_train.shape)\n",
    "print(\"-----\")\n",
    "print(x_train.shape)\n"
   ]
  },
  {
   "cell_type": "code",
   "execution_count": null,
   "id": "3473d98e",
   "metadata": {},
   "outputs": [],
   "source": [
    "#y_test = y_test\n",
    "model = Sequential()\n",
    "\n",
    "#primera capa densa\n",
    "model.add(Dense(512, activation='relu', input_shape=(64*64*3,))) #input_shape indica las dimensiones de los datos de entrada.\n",
    "#model.add(Dropout(0.2))\n",
    "#segunda capa densa\n",
    "model.add(Dense(512, activation='relu'))\n",
    "#tercera capa densa \n",
    "model.add(Dense(512, activation='relu'))\n",
    "#cuarta capa densa\n",
    "model.add(Dense(512, activation='relu'))\n",
    "\n",
    "#capa de salida binaria\n",
    "model.add(Dense(1, activation='sigmoid'))\n",
    "\n",
    "model.summary()\n"
   ]
  },
  {
   "cell_type": "code",
   "execution_count": null,
   "id": "2b40d2bc",
   "metadata": {},
   "outputs": [],
   "source": [
    "\n",
    "model.compile( loss='binary_crossentropy',  optimizer=RMSprop(),  metrics=['accuracy'])\n",
    "history = model.fit(x_train, y_train,batch_size=128,epochs=30,verbose=1,validation_data=(x_test, y_test))\n",
    "score = model.evaluate(x_test, y_test, verbose=0)\n",
    "print(score)"
   ]
  },
  {
   "cell_type": "code",
   "execution_count": null,
   "id": "fd4b82d8",
   "metadata": {},
   "outputs": [],
   "source": []
  }
 ],
 "metadata": {
  "kernelspec": {
   "display_name": "Python 3 (ipykernel)",
   "language": "python",
   "name": "python3"
  },
  "language_info": {
   "codemirror_mode": {
    "name": "ipython",
    "version": 3
   },
   "file_extension": ".py",
   "mimetype": "text/x-python",
   "name": "python",
   "nbconvert_exporter": "python",
   "pygments_lexer": "ipython3",
   "version": "3.9.12"
  }
 },
 "nbformat": 4,
 "nbformat_minor": 5
}
